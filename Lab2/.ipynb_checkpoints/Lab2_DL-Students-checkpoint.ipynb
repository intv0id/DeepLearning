{
 "cells": [
  {
   "cell_type": "markdown",
   "metadata": {},
   "source": [
    "<h1 style=\"text-align:center\">Deep Learning   </h1>\n",
    "<h1 style=\"text-align:center\"> Lab Session 2 - 1.5 Hours </h1>\n",
    "<h1 style=\"text-align:center\"> Convolutional Neural Network (CNN) for Handwritten Digits Recognition</h1>"
   ]
  },
  {
   "cell_type": "markdown",
   "metadata": {},
   "source": [
    "<b> Group name:</b> deeplearn25\n",
    " \n",
    " \n",
    "The aim of this session is to practice with Convolutional Neural Networks. Each group should fill and run appropriate notebook cells. \n",
    "\n",
    "\n",
    "Generate your final report (export as HTML) and upload it on the submission website http://bigfoot-m1.eurecom.fr/teachingsub/login (using your deeplearnXX/password). Do not forget to run all your cells before generating your final report and do not forget to include the names of all participants in the group. The lab session should be completed and submitted by May 30th 2018 (23:59:59 CET)."
   ]
  },
  {
   "cell_type": "markdown",
   "metadata": {},
   "source": [
    "# Introduction"
   ]
  },
  {
   "cell_type": "markdown",
   "metadata": {},
   "source": [
    "In the previous Lab Session, you built a Multilayer Perceptron for recognizing hand-written digits from the MNIST data-set. The best achieved accuracy on testing data was about 97%. Can you do better than these results using a deep CNN ?\n",
    "In this Lab Session, you will build, train and optimize in TensorFlow one of the early Convolutional Neural Networks,  **LeNet-5**, to go to more than 99% of accuracy. \n",
    "\n",
    "\n",
    "\n",
    "\n"
   ]
  },
  {
   "cell_type": "code",
   "execution_count": 1,
   "metadata": {
    "ExecuteTime": {
     "end_time": "2018-05-28T10:51:35.241388Z",
     "start_time": "2018-05-28T10:51:35.234850Z"
    }
   },
   "outputs": [],
   "source": [
    "import warnings\n",
    "warnings.simplefilter(\"ignore\")"
   ]
  },
  {
   "cell_type": "markdown",
   "metadata": {},
   "source": [
    "# Load MNIST Data in TensorFlow\n",
    "Run the cell below to load the MNIST data that comes with TensorFlow. You will use this data in **Section 1** and **Section 2**."
   ]
  },
  {
   "cell_type": "code",
   "execution_count": 2,
   "metadata": {
    "ExecuteTime": {
     "end_time": "2018-05-28T10:52:06.884232Z",
     "start_time": "2018-05-28T10:51:35.275734Z"
    }
   },
   "outputs": [
    {
     "name": "stdout",
     "output_type": "stream",
     "text": [
      "Extracting MNIST_data/train-images-idx3-ubyte.gz\n",
      "Extracting MNIST_data/train-labels-idx1-ubyte.gz\n",
      "Extracting MNIST_data/t10k-images-idx3-ubyte.gz\n",
      "Extracting MNIST_data/t10k-labels-idx1-ubyte.gz\n",
      "Image Shape: (784,)\n",
      "Training Set:   55000 samples\n",
      "Validation Set: 5000 samples\n",
      "Test Set:       10000 samples\n"
     ]
    }
   ],
   "source": [
    "import tensorflow as tf\n",
    "import numpy as np\n",
    "from tensorflow.examples.tutorials.mnist import input_data\n",
    "mnist = input_data.read_data_sets(\"MNIST_data/\", one_hot=True)\n",
    "X_train, y_train           = mnist.train.images, mnist.train.labels\n",
    "X_validation, y_validation = mnist.validation.images, mnist.validation.labels\n",
    "X_test, y_test             = mnist.test.images, mnist.test.labels\n",
    "print(\"Image Shape: {}\".format(X_train[0].shape))\n",
    "print(\"Training Set:   {} samples\".format(len(X_train)))\n",
    "print(\"Validation Set: {} samples\".format(len(X_validation)))\n",
    "print(\"Test Set:       {} samples\".format(len(X_test)))\n",
    "\n",
    "epsilon = 1e-10 # this is a parameter you will use later"
   ]
  },
  {
   "cell_type": "markdown",
   "metadata": {},
   "source": [
    "# Section 1 : My First Model in TensorFlow"
   ]
  },
  {
   "cell_type": "markdown",
   "metadata": {
    "collapsed": true
   },
   "source": [
    "Before starting with CNN, let's train and test in TensorFlow the example\n",
    "**y=softmax(Wx+b)** seen in the first lab. \n",
    "\n",
    "This model reaches an accuracy of about 92 %.\n",
    "You will also learn how to launch the TensorBoard https://www.tensorflow.org/get_started/summaries_and_tensorboard to visualize the computation graph, statistics and learning curves. "
   ]
  },
  {
   "cell_type": "markdown",
   "metadata": {},
   "source": [
    "<b> Part 1 </b> : Read carefully the code in the cell below. Run it to perform training. "
   ]
  },
  {
   "cell_type": "code",
   "execution_count": 3,
   "metadata": {
    "ExecuteTime": {
     "end_time": "2018-05-28T10:52:42.151589Z",
     "start_time": "2018-05-28T10:52:06.887672Z"
    }
   },
   "outputs": [
    {
     "name": "stdout",
     "output_type": "stream",
     "text": [
      "Epoch:  10   =====> Loss= 0.413110808\n",
      "Epoch:  20   =====> Loss= 0.359653309\n",
      "Epoch:  30   =====> Loss= 0.336854825\n",
      "Epoch:  40   =====> Loss= 0.323114058\n",
      "Optimization Finished!\n",
      "Accuracy: 0.9162\n"
     ]
    }
   ],
   "source": [
    "#STEP 1\n",
    "\n",
    "# Parameters\n",
    "learning_rate = 0.01\n",
    "training_epochs = 40\n",
    "batch_size = 128\n",
    "display_step = 10\n",
    "logs_path = 'log_files/'  # useful for tensorboard\n",
    "\n",
    "# tf Graph Input:  mnist data image of shape 28*28=784\n",
    "x = tf.placeholder(tf.float32, [None, 784], name='InputData')\n",
    "# 0-9 digits recognition,  10 classes\n",
    "y = tf.placeholder(tf.float32, [None, 10], name='LabelData')\n",
    "\n",
    "# Set model weights\n",
    "W = tf.Variable(tf.zeros([784, 10]), name='Weights')\n",
    "b = tf.Variable(tf.zeros([10]), name='Bias')\n",
    "\n",
    "# Construct model and encapsulating all ops into scopes, making Tensorboard's Graph visualization more convenient\n",
    "with tf.name_scope('Model'):\n",
    "    # Model\n",
    "    pred = tf.nn.softmax(tf.matmul(x, W) + b) # Softmax\n",
    "with tf.name_scope('Loss'):\n",
    "    # Minimize error using cross entropy\n",
    "    # We use tf.clip_by_value to avoid having too low numbers in the log function\n",
    "    cost = tf.reduce_mean(-tf.reduce_sum(y*tf.log(tf.clip_by_value(pred, epsilon, 1.0)), reduction_indices=1))\n",
    "with tf.name_scope('SGD'):\n",
    "    # Gradient Descent\n",
    "    optimizer = tf.train.GradientDescentOptimizer(learning_rate).minimize(cost)\n",
    "with tf.name_scope('Accuracy'):\n",
    "    # Accuracy\n",
    "    acc = tf.equal(tf.argmax(pred, 1), tf.argmax(y, 1))\n",
    "    acc = tf.reduce_mean(tf.cast(acc, tf.float32))\n",
    "\n",
    "# Initializing the variables\n",
    "init = tf.global_variables_initializer()\n",
    "# Create a summary to monitor cost tensor\n",
    "tf.summary.scalar(\"Loss\", cost)\n",
    "# Create a summary to monitor accuracy tensor\n",
    "tf.summary.scalar(\"Accuracy\", acc)\n",
    "# Merge all summaries into a single op\n",
    "merged_summary_op = tf.summary.merge_all()\n",
    "\n",
    "#STEP 2 \n",
    "\n",
    "# Launch the graph for training\n",
    "with tf.Session() as sess:\n",
    "    sess.run(init)\n",
    "    # op to write logs to Tensorboard\n",
    "    summary_writer = tf.summary.FileWriter(logs_path, graph=tf.get_default_graph())\n",
    "    # Training cycle\n",
    "    for epoch in range(training_epochs):\n",
    "        avg_cost = 0.\n",
    "        total_batch = int(mnist.train.num_examples/batch_size)\n",
    "        # Loop over all batches\n",
    "        for i in range(total_batch):\n",
    "            batch_xs, batch_ys = mnist.train.next_batch(batch_size, shuffle=(i==0))\n",
    "            # Run optimization op (backprop), cost op (to get loss value)\n",
    "            # and summary nodes\n",
    "            _, c, summary = sess.run([optimizer, cost, merged_summary_op],\n",
    "                                     feed_dict={x: batch_xs, y: batch_ys})\n",
    "            # Write logs at every iteration\n",
    "            summary_writer.add_summary(summary, epoch * total_batch + i)\n",
    "            # Compute average loss\n",
    "            avg_cost += c / total_batch\n",
    "        # Display logs per epoch step\n",
    "        if (epoch+1) % display_step == 0:\n",
    "            print(\"Epoch: \", '%02d' % (epoch+1), \"  =====> Loss=\", \"{:.9f}\".format(avg_cost))\n",
    "\n",
    "    print(\"Optimization Finished!\")\n",
    "    summary_writer.flush()\n",
    "\n",
    "    # Test model\n",
    "    # Calculate accuracy\n",
    "    print(\"Accuracy:\", acc.eval({x: mnist.test.images, y: mnist.test.labels}))"
   ]
  },
  {
   "cell_type": "markdown",
   "metadata": {},
   "source": [
    "<b> Part 2  </b>: Using Tensorboard, we can  now visualize the created graph, giving you an overview of your architecture and how all of the major components  are connected. You can also see and analyse the learning curves. \n",
    "\n",
    "To launch tensorBoard: \n",
    "- Open a Terminal and run the command line **\"tensorboard --logdir=lab_2/log_files/\"**\n",
    "- Click on \"Tensorboard web interface\" in Zoe  \n",
    "\n",
    "\n",
    "Enjoy It !! \n"
   ]
  },
  {
   "cell_type": "markdown",
   "metadata": {},
   "source": [
    "# Section 2 : The 99% MNIST Challenge !"
   ]
  },
  {
   "cell_type": "markdown",
   "metadata": {},
   "source": [
    "<b> Part 1 </b> : LeNet5 implementation"
   ]
  },
  {
   "cell_type": "markdown",
   "metadata": {},
   "source": [
    "You are now more familar with **TensorFlow** and **TensorBoard**. In this section, you are to build, train and test the baseline [LeNet-5](http://yann.lecun.com/exdb/lenet/)  model for the MNIST digits recognition problem.  \n",
    "\n",
    "Then, you will make some optimizations to get more than 99% of accuracy.\n",
    "\n",
    "For more informations, have a look at this list of results: http://rodrigob.github.io/are_we_there_yet/build/classification_datasets_results.html"
   ]
  },
  {
   "cell_type": "markdown",
   "metadata": {},
   "source": [
    "\n",
    "<img src=\"lenet.png\",width=\"800\" height=\"600\" align=\"center\">\n",
    "<center><span>Figure 1: Lenet-5 </span></center>\n",
    "\n",
    "\n",
    "\n",
    "\n",
    "\n",
    "The LeNet architecture takes a 28x28xC image as input, where C is the number of color channels. Since MNIST images are grayscale, C is 1 in this case.\n",
    "\n",
    "--------------------------\n",
    "**Layer 1 - Convolution (5x5):** The output shape should be 28x28x6. **Activation:** ReLU. **MaxPooling:** The output shape should be 14x14x6.\n",
    "\n",
    "**Layer 2 - Convolution (5x5):** The output shape should be 10x10x16. **Activation:** ReLU. **MaxPooling:** The output shape should be 5x5x16.\n",
    "\n",
    "**Flatten:** Flatten the output shape of the final pooling layer such that it's 1D instead of 3D.  You may need to use tf.reshape.\n",
    "\n",
    "**Layer 3 - Fully Connected:** This should have 120 outputs. **Activation:** ReLU.\n",
    "\n",
    "**Layer 4 - Fully Connected:** This should have 84 outputs. **Activation:** ReLU.\n",
    "\n",
    "**Layer 5 - Fully Connected:** This should have 10 outputs. **Activation:** softmax.\n"
   ]
  },
  {
   "cell_type": "markdown",
   "metadata": {},
   "source": [
    "<b> Question 2.1.1 </b>  Implement the Neural Network architecture described above.\n",
    "For that, your will use classes and functions from  https://www.tensorflow.org/api_docs/python/tf/nn. \n",
    "\n",
    "We give you some helper functions for weigths and bias initilization. Also you can refer to section 1. \n"
   ]
  },
  {
   "cell_type": "code",
   "execution_count": 4,
   "metadata": {
    "ExecuteTime": {
     "end_time": "2018-05-28T10:52:42.162996Z",
     "start_time": "2018-05-28T10:52:42.155668Z"
    }
   },
   "outputs": [],
   "source": [
    "# Functions for weigths and bias initilization \n",
    "def weight_variable(shape):\n",
    "    initial = tf.truncated_normal(shape, stddev=0.1)\n",
    "    return tf.Variable(initial)\n",
    "\n",
    "def bias_variable(shape):\n",
    "    initial = tf.constant(0., shape=shape)\n",
    "    return tf.Variable(initial)"
   ]
  },
  {
   "cell_type": "code",
   "execution_count": 5,
   "metadata": {
    "ExecuteTime": {
     "end_time": "2018-05-28T10:52:42.179690Z",
     "start_time": "2018-05-28T10:52:42.166625Z"
    }
   },
   "outputs": [],
   "source": [
    "#Implement 2d convolution for our architecture\n",
    "def conv2d(input_layer, W, b, padding, activation, pooling, name):\n",
    "    conv = tf.nn.conv2d(\n",
    "        input_layer, W, strides=[1, 1, 1, 1], padding=padding, name=name\n",
    "    )\n",
    "    return pooling(activation(conv + b))\n",
    "\n",
    "#Implement full connection qs defined in the lesson\n",
    "def fully_connected(input_layer, n_input, n_output, activation, name):\n",
    "    W, b = weight_variable((n_input, n_output)), bias_variable((n_output,))\n",
    "    return activation(input_layer @ W + b)"
   ]
  },
  {
   "cell_type": "code",
   "execution_count": 6,
   "metadata": {
    "ExecuteTime": {
     "end_time": "2018-05-28T10:52:42.207149Z",
     "start_time": "2018-05-28T10:52:42.184843Z"
    }
   },
   "outputs": [],
   "source": [
    "from functools import partial\n",
    "def LeNet5_Model(image, dropout=False):\n",
    "    #reshape the input\n",
    "    layer0 = tf.reshape(image, (-1, 28, 28, 1))\n",
    "\n",
    "    # Layer 1 : \n",
    "    layer1 = conv2d(\n",
    "        input_layer = layer0,\n",
    "        W = weight_variable((5, 5, 1, 6)),\n",
    "        b = bias_variable((6,)),\n",
    "        padding = \"SAME\",\n",
    "        activation = tf.nn.sigmoid,\n",
    "        pooling = partial(tf.nn.max_pool, \n",
    "                          ksize=[1, 2, 2, 1], \n",
    "                          strides=[1, 2, 2, 1], \n",
    "                          padding='VALID'),\n",
    "        name=\"Layer1\"\n",
    "    )\n",
    "    \n",
    "    # Layer 2 :\n",
    "    layer2 = conv2d(\n",
    "        input_layer = layer1,\n",
    "        W = weight_variable((5, 5, 6, 16)),\n",
    "        b = bias_variable((16,)),\n",
    "        padding = \"VALID\",\n",
    "        activation = tf.nn.sigmoid,\n",
    "        pooling = partial(tf.nn.max_pool,\n",
    "                          ksize=[1, 2, 2, 1],\n",
    "                          strides=[1, 2, 2, 1],\n",
    "                          padding='VALID'),\n",
    "        name=\"Layer2\"\n",
    "    )\n",
    "    \n",
    "    layer3 = fully_connected(\n",
    "        tf.contrib.layers.flatten(\n",
    "            # Perform the dropout if needed\n",
    "            tf.nn.dropout(layer2, keep_prob = 0.75) \n",
    "            if dropout \n",
    "            else layer2\n",
    "        ),\n",
    "        n_input=400,\n",
    "        n_output=120, \n",
    "        activation=tf.nn.relu, \n",
    "        name=\"Layer3\"\n",
    "    )\n",
    "    \n",
    "    layer4 = fully_connected(\n",
    "        layer3, \n",
    "        n_input=120,\n",
    "        n_output=84, \n",
    "        activation=tf.nn.relu, \n",
    "        name=\"Layer4\"\n",
    "    )\n",
    "    \n",
    "    layer5 = fully_connected(\n",
    "        layer4, \n",
    "        n_input=84,\n",
    "        n_output=10, \n",
    "        activation=tf.nn.softmax, \n",
    "        name=\"Layer5\"\n",
    "    )\n",
    "    return layer5"
   ]
  },
  {
   "cell_type": "markdown",
   "metadata": {},
   "source": [
    "<b> Question 2.1.2. </b>  Calculate the number of parameters of this model "
   ]
  },
  {
   "cell_type": "markdown",
   "metadata": {
    "collapsed": true
   },
   "source": [
    "##### The parameters are the weights of the connexions between layers in the neural network (either the filter matrices for convolutions and the weights for the fully connected layers). \n",
    "\n",
    "- For the convolution layers : product of the shape + bias size\n",
    "- For the fully connected layers : product of the size of the input an of the output + bias (= size of the output)\n",
    "\n",
    "Therefore we can state the following:\n",
    "\n",
    "-------------------\n",
    "\n",
    "- Layer 1: $5\\times5\\times1\\times6 + 6$   \n",
    "    - = 156 parameters\n",
    "- Layer 2: $5\\times5\\times6\\times16 + 16$ \n",
    "    - = 2416 parameters\n",
    "- Layer 3: $400 \\times 120 + 120$         \n",
    "    - = 48120 parameters\n",
    "- Layer 4: $120 \\times 84 + 84$           \n",
    "    - = 10164 parameters\n",
    "- Layer 5: $84 \\times 10 + 10$            \n",
    "    - = 850 parameters\n",
    "\n",
    "--------------------\n",
    "\n",
    "- Total: 61706 parameters"
   ]
  },
  {
   "cell_type": "markdown",
   "metadata": {},
   "source": [
    "<b> Question 2.1.3. </b>  Define your model, its accuracy and the loss function according to the following parameters (you can look at Section 1 to see what is expected):\n",
    "\n",
    "     Learning rate: 0.001\n",
    "     Loss Function: Cross-entropy\n",
    "     Optimizer: tf.train.GradientDescentOptimizer\n",
    "     Number of epochs: 40\n",
    "     Batch size: 128"
   ]
  },
  {
   "cell_type": "code",
   "execution_count": 7,
   "metadata": {
    "ExecuteTime": {
     "end_time": "2018-05-28T10:52:42.567508Z",
     "start_time": "2018-05-28T10:52:42.210287Z"
    }
   },
   "outputs": [],
   "source": [
    "tf.reset_default_graph() # reset the default graph before defining a new model\n",
    "\n",
    "# Parameters\n",
    "learning_rate = .01\n",
    "training_epochs = 40\n",
    "batch_size = 128\n",
    "logs_path = 'log_files/'\n",
    "\n",
    "# Model\n",
    "x = tf.placeholder(tf.float32, shape=(None, 784), name='InputData')\n",
    "y = tf.placeholder(tf.float32, shape=(None, 10), name='LabelData')\n",
    "\n",
    "modelSGD = LeNet5_Model(x)\n",
    "\n",
    "with tf.name_scope('Loss_SGD'):\n",
    "    costSGD = tf.reduce_mean(-tf.reduce_sum(\n",
    "        y*tf.log(tf.clip_by_value(modelSGD, epsilon, 1.0)), \n",
    "        reduction_indices=1\n",
    "    ))\n",
    "with tf.name_scope('Optimisation_SGD'):\n",
    "    optimizerSGD = tf.train.GradientDescentOptimizer(learning_rate).minimize(costSGD)"
   ]
  },
  {
   "cell_type": "markdown",
   "metadata": {},
   "source": [
    "<b> Question 2.1.4. </b>  Implement the evaluation function for accuracy computation "
   ]
  },
  {
   "cell_type": "code",
   "execution_count": 8,
   "metadata": {
    "ExecuteTime": {
     "end_time": "2018-05-28T10:52:42.587823Z",
     "start_time": "2018-05-28T10:52:42.569365Z"
    }
   },
   "outputs": [],
   "source": [
    "def evaluate(logits, labels):\n",
    "    \"\"\"\n",
    "        This function returns the accuracy of your model\n",
    "    \"\"\"\n",
    "    return tf.reduce_mean(tf.cast(\n",
    "        tf.equal(tf.argmax(logits, 1), tf.argmax(labels, 1)), \n",
    "        tf.float32\n",
    "    ))\n",
    "\n",
    "with tf.name_scope('Accuracy_SGD'):\n",
    "    accuracySGD = evaluate(modelSGD, y)"
   ]
  },
  {
   "cell_type": "markdown",
   "metadata": {},
   "source": [
    "<b> Question 2.1.5. </b>  Implement training pipeline and run the training data through it to train the model.\n",
    "\n",
    "- Before each epoch, shuffle the training set. \n",
    "- Print the loss per mini batch and the training/validation accuracy per epoch. (Display results every 10 epochs)\n",
    "- Save the model after training\n",
    "- Print after training the final testing accuracy \n",
    "\n"
   ]
  },
  {
   "cell_type": "code",
   "execution_count": 9,
   "metadata": {
    "ExecuteTime": {
     "end_time": "2018-05-28T10:52:42.613079Z",
     "start_time": "2018-05-28T10:52:42.590185Z"
    }
   },
   "outputs": [],
   "source": [
    "# Initializing the variables\n",
    "init = tf.global_variables_initializer()\n",
    "# Create a summary to monitor cost tensor\n",
    "tf.summary.scalar(\"Loss_LeNet-5_SGD\", costSGD)\n",
    "# Create a summary to monitor accuracy tensor\n",
    "tf.summary.scalar(\"Accuracy_LeNet-5_SGD\", accuracySGD)\n",
    "# Merge all summaries into a single op\n",
    "merged_summary_op = tf.summary.merge_all()\n",
    "\n",
    "def train(init, sess, logs_path, n_epochs, batch_size, optimizer, cost, accuracy, merged_summary_op):\n",
    "    sess.run(init)\n",
    "    summary_writer = tf.summary.FileWriter(logs_path, graph=tf.get_default_graph())\n",
    "    for epoch in range(training_epochs):\n",
    "        total_batch = int(mnist.train.num_examples/batch_size)\n",
    "        for i in range(mnist.train.num_examples // batch_size):\n",
    "            x_set, y_set = mnist.train.next_batch(batch_size, shuffle=i==0)\n",
    "            \n",
    "            _, current_cost, summary = sess.run(\n",
    "                [optimizer, cost, merged_summary_op],\n",
    "                feed_dict={x: x_set, y: y_set}\n",
    "            )\n",
    "            summary_writer.add_summary(summary, epoch * total_batch + i)\n",
    "            \n",
    "        \n",
    "        if (epoch+1) % display_step == 0:\n",
    "            print(\"Epoch {:02d}\\t- Training data loss = {:.9f}\"\n",
    "                  .format(epoch+1, current_cost / batch_size)\n",
    "            )\n",
    "            print(\"\\t\\t- Test data accuracy = {:.3f}\".format(\n",
    "                accuracy.eval(feed_dict={x: mnist.test.images, y: mnist.test.labels})\n",
    "            ))\n",
    "\n",
    "    print(\"Final Accuracy={:.3f}\".format(\n",
    "        accuracy.eval(feed_dict={x: mnist.test.images, y: mnist.test.labels})\n",
    "    ))\n",
    "    summary_writer.flush()"
   ]
  },
  {
   "cell_type": "code",
   "execution_count": 10,
   "metadata": {
    "ExecuteTime": {
     "end_time": "2018-05-28T11:17:34.644231Z",
     "start_time": "2018-05-28T10:52:42.614077Z"
    }
   },
   "outputs": [
    {
     "name": "stdout",
     "output_type": "stream",
     "text": [
      "Epoch 10\t- Training data loss = 0.005665091\n",
      "\t\t- Test data accuracy = 0.795\n",
      "Epoch 20\t- Training data loss = 0.002741008\n",
      "\t\t- Test data accuracy = 0.927\n",
      "Epoch 30\t- Training data loss = 0.000771553\n",
      "\t\t- Test data accuracy = 0.953\n",
      "Epoch 40\t- Training data loss = 0.001088277\n",
      "\t\t- Test data accuracy = 0.966\n",
      "Final Accuracy=0.966\n",
      "Elapsed time:\n",
      "CPU times: user 56min 29s, sys: 14min 51s, total: 1h 11min 21s\n",
      "Wall time: 10min 1s\n"
     ]
    }
   ],
   "source": [
    "%%time\n",
    "with tf.Session() as sess:\n",
    "    train(init, sess, logs_path, training_epochs, batch_size, optimizerSGD, costSGD, accuracySGD, merged_summary_op)\n",
    "    \n",
    "print(\"Elapsed time:\")"
   ]
  },
  {
   "cell_type": "markdown",
   "metadata": {},
   "source": [
    "<b> Question 2.1.6 </b> : Use TensorBoard to visualise and save loss and accuracy curves. \n",
    "You will save figures in the folder **\"lab_2/MNIST_figures\"** and display them in your notebook."
   ]
  },
  {
   "cell_type": "markdown",
   "metadata": {},
   "source": [
    "![Loss Multi Layer Perceptron](./MNIST_figures/LossMLP.png)\n",
    "![Accuracy Multi Layer Perceptron](./MNIST_figures/AccuracyMLP.png)\n",
    "![Loss LeNet SGD](./MNIST_figures/LossSGD.png)\n",
    "![Accuracy LeNet SGD](./MNIST_figures/AccuracySGD.png)\n",
    "\n",
    "We divided the error by more than two, this is a huge improvment. The number of iterations seems good, as both accuracy and loss curves are flattening at the end of the training. We can notice that for LeNet optimization, the loss function is slow to decrease, but become very low when it starts to do so."
   ]
  },
  {
   "cell_type": "markdown",
   "metadata": {},
   "source": [
    "<b> Part 2 </b> : LeNET 5 Optimization"
   ]
  },
  {
   "cell_type": "markdown",
   "metadata": {},
   "source": [
    "\n",
    "<b> Question 2.2.1 </b>\n",
    "\n",
    "- Retrain your network with AdamOptimizer and then fill the table above:\n",
    "\n",
    "\n",
    "| Optimizer            | Gradient Descent   |    AdamOptimizer    |\n",
    "|----------------------|--------------------|---------------------|\n",
    "| Testing Accuracy     |       0.966        |        0.983        |       \n",
    "| Training Time        |     10min 01s      |       10min 03s     |  \n",
    "\n",
    "- Which optimizer gives the best accuracy on test data?\n",
    "\n",
    "Even if computation times are the same, not only Adam Optimizer (which is an improvement of Adagrad) converges faster, but it also gives better results when dealing with mnist with LeNet5 (it divides the number of mistakes by exactly 2). The parameters such as the learning-rate aren't tuned, but they are set by default to their initial paper optimum by tensorflow. This time, the loss function decrease really fast and do not wait a lot of iterations to do so.\n",
    "\n",
    "For instance, Adam is set to:\n",
    "\n",
    "```python\n",
    "    learning_rate=0.001,\n",
    "    beta1=0.9,\n",
    "    beta2=0.999,\n",
    "    epsilon=1e-08,\n",
    "    use_locking=False,\n",
    "    name='Adam'\n",
    "```\n"
   ]
  },
  {
   "cell_type": "code",
   "execution_count": 11,
   "metadata": {
    "ExecuteTime": {
     "end_time": "2018-05-28T11:17:35.361883Z",
     "start_time": "2018-05-28T11:17:34.648904Z"
    }
   },
   "outputs": [],
   "source": [
    "tf.reset_default_graph()\n",
    "\n",
    "# Model\n",
    "x = tf.placeholder(tf.float32, shape=(None, 784), name='InputData')\n",
    "y = tf.placeholder(tf.float32, shape=(None, 10), name='LabelData')\n",
    "\n",
    "modelADAM = LeNet5_Model(x)\n",
    "\n",
    "with tf.name_scope('Accuracy_ADAM'):\n",
    "    accuracyADAM = evaluate(modelADAM, y)\n",
    "with tf.name_scope('Loss_ADAM'):\n",
    "    costADAM = tf.reduce_mean(-tf.reduce_sum(y*tf.log(tf.clip_by_value(modelADAM, epsilon, 1.0)), reduction_indices=1))\n",
    "with tf.name_scope('Optimisation_ADAM'):\n",
    "    optimizerADAM = tf.train.AdamOptimizer(learning_rate).minimize(costADAM)\n",
    "    \n",
    "# Initializing the variables\n",
    "init = tf.global_variables_initializer()\n",
    "# Create a summary to monitor cost tensor\n",
    "tf.summary.scalar(\"Loss_LeNet-5_Adam\", costADAM)\n",
    "# Create a summary to monitor accuracy tensor\n",
    "tf.summary.scalar(\"Accuracy_LeNet-5_Adam\", accuracyADAM)\n",
    "# Merge all summaries into a single op\n",
    "merged_summary_op = tf.summary.merge_all()"
   ]
  },
  {
   "cell_type": "code",
   "execution_count": 12,
   "metadata": {
    "ExecuteTime": {
     "start_time": "2018-05-28T10:51:35.896Z"
    }
   },
   "outputs": [
    {
     "name": "stdout",
     "output_type": "stream",
     "text": [
      "Epoch 10\t- Training data loss = 0.000235501\n",
      "\t\t- Test data accuracy = 0.982\n",
      "Epoch 20\t- Training data loss = 0.000209198\n",
      "\t\t- Test data accuracy = 0.986\n",
      "Epoch 30\t- Training data loss = 0.000043319\n",
      "\t\t- Test data accuracy = 0.985\n",
      "Epoch 40\t- Training data loss = 0.000290127\n",
      "\t\t- Test data accuracy = 0.983\n",
      "Final Accuracy=0.983\n",
      "Elapsed time:\n",
      "CPU times: user 56min 20s, sys: 14min 46s, total: 1h 11min 7s\n",
      "Wall time: 10min 3s\n"
     ]
    }
   ],
   "source": [
    "%%time\n",
    "with tf.Session() as sess:\n",
    "    train(init, sess, logs_path, training_epochs, batch_size, optimizerADAM, costADAM, accuracyADAM, merged_summary_op) \n",
    "print(\"Elapsed time:\")"
   ]
  },
  {
   "cell_type": "markdown",
   "metadata": {},
   "source": [
    "![Loss LeNet Adam](./MNIST_figures/LossADAM.png)\n",
    "![Accuracy LeNet Adam](./MNIST_figures/AccuracyADAM.png)"
   ]
  },
  {
   "cell_type": "markdown",
   "metadata": {},
   "source": [
    "<b> Question 2.2.2</b> Try to add dropout (keep_prob = 0.75) before the first fully connected layer. You will use tf.nn.dropout for that purpose. What accuracy do you achieve on testing data?\n",
    "\n",
    "**Accuracy achieved on testing data:** 0.986<br>\n",
    "We have reduced our number of errors by 15%, which is significant. We are this time raising the accuracy much faster."
   ]
  },
  {
   "cell_type": "code",
   "execution_count": 13,
   "metadata": {
    "ExecuteTime": {
     "start_time": "2018-05-28T10:51:35.936Z"
    }
   },
   "outputs": [],
   "source": [
    "def LeNet5_Model_Dropout(*args, **kwargs):    \n",
    "    return LeNet5_Model(*args, **kwargs, dropout=True)"
   ]
  },
  {
   "cell_type": "code",
   "execution_count": 14,
   "metadata": {
    "ExecuteTime": {
     "start_time": "2018-05-28T10:51:35.941Z"
    }
   },
   "outputs": [],
   "source": [
    "tf.reset_default_graph()\n",
    "\n",
    "# Model\n",
    "x = tf.placeholder(tf.float32, shape=(None, 784), name='InputData')\n",
    "y = tf.placeholder(tf.float32, shape=(None, 10), name='LabelData')\n",
    "\n",
    "modelDrop = LeNet5_Model_Dropout(x)\n",
    "\n",
    "with tf.name_scope('Accuracy_DROPOUT'):\n",
    "    accuracyDROP = evaluate(modelDrop, y)\n",
    "with tf.name_scope('Loss_DROPOUT'):\n",
    "    costDROP = tf.reduce_mean(-tf.reduce_sum(y*tf.log(tf.clip_by_value(modelDrop, epsilon, 1.0)), reduction_indices=1))\n",
    "with tf.name_scope('Optimisation_DROPOUT'):\n",
    "    optimizerDROP = tf.train.AdamOptimizer(learning_rate).minimize(costDROP)\n",
    "    \n",
    "# Initializing the variables\n",
    "init = tf.global_variables_initializer()\n",
    "# Create a summary to monitor cost tensor\n",
    "tf.summary.scalar(\"Loss_LeNet-5_Drop\", costDROP)\n",
    "# Create a summary to monitor accuracy tensor\n",
    "tf.summary.scalar(\"Accuracy_LeNet-5_Drop\", accuracyDROP)\n",
    "# Merge all summaries into a single op\n",
    "merged_summary_op = tf.summary.merge_all()"
   ]
  },
  {
   "cell_type": "code",
   "execution_count": 15,
   "metadata": {
    "ExecuteTime": {
     "start_time": "2018-05-28T10:51:35.946Z"
    }
   },
   "outputs": [
    {
     "name": "stdout",
     "output_type": "stream",
     "text": [
      "Epoch 10\t- Training data loss = 0.000125411\n",
      "\t\t- Test data accuracy = 0.978\n",
      "Epoch 20\t- Training data loss = 0.000041697\n",
      "\t\t- Test data accuracy = 0.982\n",
      "Epoch 30\t- Training data loss = 0.000018722\n",
      "\t\t- Test data accuracy = 0.985\n",
      "Epoch 40\t- Training data loss = 0.000032723\n",
      "\t\t- Test data accuracy = 0.984\n",
      "Final Accuracy=0.986\n",
      "Elapsed time:\n",
      "CPU times: user 57min 4s, sys: 12min 9s, total: 1h 9min 14s\n",
      "Wall time: 10min 14s\n"
     ]
    }
   ],
   "source": [
    "%%time\n",
    "with tf.Session() as sess:\n",
    "    train(init, sess, logs_path, training_epochs, batch_size, optimizerDROP, costDROP, accuracyDROP, merged_summary_op) \n",
    "print(\"Elapsed time:\")"
   ]
  },
  {
   "cell_type": "markdown",
   "metadata": {},
   "source": [
    "![Loss LeNet Adam with Dropout](./MNIST_figures/LossDROP.png)\n",
    "![Accuracy LeNet Adam with Dropout](./MNIST_figures/AccuracyDROP.png)"
   ]
  }
 ],
 "metadata": {
  "anaconda-cloud": {},
  "kernelspec": {
   "display_name": "Python 3",
   "language": "python",
   "name": "python3"
  },
  "language_info": {
   "codemirror_mode": {
    "name": "ipython",
    "version": 3
   },
   "file_extension": ".py",
   "mimetype": "text/x-python",
   "name": "python",
   "nbconvert_exporter": "python",
   "pygments_lexer": "ipython3",
   "version": "3.5.2"
  },
  "toc": {
   "base_numbering": 1,
   "nav_menu": {},
   "number_sections": false,
   "sideBar": true,
   "skip_h1_title": false,
   "title_cell": "Table of Contents",
   "title_sidebar": "Contents",
   "toc_cell": false,
   "toc_position": {},
   "toc_section_display": true,
   "toc_window_display": false
  },
  "varInspector": {
   "cols": {
    "lenName": 16,
    "lenType": 16,
    "lenVar": 40
   },
   "kernels_config": {
    "python": {
     "delete_cmd_postfix": "",
     "delete_cmd_prefix": "del ",
     "library": "var_list.py",
     "varRefreshCmd": "print(var_dic_list())"
    },
    "r": {
     "delete_cmd_postfix": ") ",
     "delete_cmd_prefix": "rm(",
     "library": "var_list.r",
     "varRefreshCmd": "cat(var_dic_list()) "
    }
   },
   "types_to_exclude": [
    "module",
    "function",
    "builtin_function_or_method",
    "instance",
    "_Feature"
   ],
   "window_display": false
  },
  "widgets": {
   "state": {},
   "version": "1.1.2"
  }
 },
 "nbformat": 4,
 "nbformat_minor": 1
}
